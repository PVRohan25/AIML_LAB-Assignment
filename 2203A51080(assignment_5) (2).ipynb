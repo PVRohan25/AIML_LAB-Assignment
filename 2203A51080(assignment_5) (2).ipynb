{
  "nbformat": 4,
  "nbformat_minor": 0,
  "metadata": {
    "colab": {
      "provenance": [],
      "toc_visible": true
    },
    "kernelspec": {
      "name": "python3",
      "display_name": "Python 3"
    },
    "language_info": {
      "name": "python"
    }
  },
  "cells": [
    {
      "cell_type": "code",
      "execution_count": 4,
      "metadata": {
        "colab": {
          "base_uri": "https://localhost:8080/"
        },
        "id": "r4MOO066IFod",
        "outputId": "a34bd141-01f4-4c67-cea4-239e40305191"
      },
      "outputs": [
        {
          "output_type": "stream",
          "name": "stdout",
          "text": [
            "         longitude    latitude  housing_median_age   total_rooms  \\\n",
            "count  3000.000000  3000.00000         3000.000000   3000.000000   \n",
            "mean   -119.589200    35.63539           28.845333   2599.578667   \n",
            "std       1.994936     2.12967           12.555396   2155.593332   \n",
            "min    -124.180000    32.56000            1.000000      6.000000   \n",
            "25%    -121.810000    33.93000           18.000000   1401.000000   \n",
            "50%    -118.485000    34.27000           29.000000   2106.000000   \n",
            "75%    -118.020000    37.69000           37.000000   3129.000000   \n",
            "max    -114.490000    41.92000           52.000000  30450.000000   \n",
            "\n",
            "       total_bedrooms    population  households  median_income  \\\n",
            "count     3000.000000   3000.000000  3000.00000    3000.000000   \n",
            "mean       529.950667   1402.798667   489.91200       3.807272   \n",
            "std        415.654368   1030.543012   365.42271       1.854512   \n",
            "min          2.000000      5.000000     2.00000       0.499900   \n",
            "25%        291.000000    780.000000   273.00000       2.544000   \n",
            "50%        437.000000   1155.000000   409.50000       3.487150   \n",
            "75%        636.000000   1742.750000   597.25000       4.656475   \n",
            "max       5419.000000  11935.000000  4930.00000      15.000100   \n",
            "\n",
            "       median_house_value  \n",
            "count          3000.00000  \n",
            "mean         205846.27500  \n",
            "std          113119.68747  \n",
            "min           22500.00000  \n",
            "25%          121200.00000  \n",
            "50%          177650.00000  \n",
            "75%          263975.00000  \n",
            "max          500001.00000  \n"
          ]
        }
      ],
      "source": [
        "#a question\n",
        "import pandas as pd\n",
        "\n",
        "df = pd.read_csv('/content/sample_data/california_housing_test.csv')\n",
        "print(df.describe())"
      ]
    },
    {
      "cell_type": "code",
      "source": [
        "#b question\n",
        "print(df.dtypes)\n",
        "print(df.shape)"
      ],
      "metadata": {
        "colab": {
          "base_uri": "https://localhost:8080/"
        },
        "id": "kHtHbYCgLU6e",
        "outputId": "11e1d970-cb7e-43a4-8ddd-a3cef1f4b355"
      },
      "execution_count": 6,
      "outputs": [
        {
          "output_type": "stream",
          "name": "stdout",
          "text": [
            "longitude             float64\n",
            "latitude              float64\n",
            "housing_median_age    float64\n",
            "total_rooms           float64\n",
            "total_bedrooms        float64\n",
            "population            float64\n",
            "households            float64\n",
            "median_income         float64\n",
            "median_house_value    float64\n",
            "dtype: object\n",
            "(3000, 9)\n"
          ]
        }
      ]
    },
    {
      "cell_type": "code",
      "source": [
        "#c question\n",
        "print(df.isnull().sum())\n",
        "df.fillna(0, inplace=True)\n",
        "for column in df.columns:\n",
        "    if df[column].isnull().any():\n",
        "        df[column].fillna(df[column].mean(), inplace=True)"
      ],
      "metadata": {
        "colab": {
          "base_uri": "https://localhost:8080/"
        },
        "id": "x_Zi19smLi9K",
        "outputId": "f644f5ba-88f1-4cff-b0d7-5fc7c1748de4"
      },
      "execution_count": 7,
      "outputs": [
        {
          "output_type": "stream",
          "name": "stdout",
          "text": [
            "longitude             0\n",
            "latitude              0\n",
            "housing_median_age    0\n",
            "total_rooms           0\n",
            "total_bedrooms        0\n",
            "population            0\n",
            "households            0\n",
            "median_income         0\n",
            "median_house_value    0\n",
            "dtype: int64\n"
          ]
        }
      ]
    },
    {
      "cell_type": "code",
      "source": [
        "#d question\n",
        "import pandas as pd\n",
        "data = pd.read_csv(\"/content/sample_data/california_housing_test.csv\")\n",
        "features = data.iloc[:, :-1]\n",
        "target = data.iloc[:, -1]\n",
        "print(\"Features:\")\n",
        "print(features.head())\n",
        "print(\"\\nTarget:\")\n",
        "print(target.head())"
      ],
      "metadata": {
        "colab": {
          "base_uri": "https://localhost:8080/"
        },
        "id": "ozUtBgqkL7GN",
        "outputId": "0559cbfa-b0bc-4a8f-da87-230b90861b64"
      },
      "execution_count": 12,
      "outputs": [
        {
          "output_type": "stream",
          "name": "stdout",
          "text": [
            "Features:\n",
            "   longitude  latitude  housing_median_age  total_rooms  total_bedrooms  \\\n",
            "0    -122.05     37.37                27.0       3885.0           661.0   \n",
            "1    -118.30     34.26                43.0       1510.0           310.0   \n",
            "2    -117.81     33.78                27.0       3589.0           507.0   \n",
            "3    -118.36     33.82                28.0         67.0            15.0   \n",
            "4    -119.67     36.33                19.0       1241.0           244.0   \n",
            "\n",
            "   population  households  median_income  \n",
            "0      1537.0       606.0         6.6085  \n",
            "1       809.0       277.0         3.5990  \n",
            "2      1484.0       495.0         5.7934  \n",
            "3        49.0        11.0         6.1359  \n",
            "4       850.0       237.0         2.9375  \n",
            "\n",
            "Target:\n",
            "0    344700.0\n",
            "1    176500.0\n",
            "2    270500.0\n",
            "3    330000.0\n",
            "4     81700.0\n",
            "Name: median_house_value, dtype: float64\n"
          ]
        }
      ]
    },
    {
      "cell_type": "code",
      "source": [
        "#e question\n",
        "import pandas as pd\n",
        "from sklearn.model_selection import train_test_split\n",
        "\n",
        "\n",
        "\n",
        "target_column = data.columns[-1]\n",
        "\n",
        "features = data.drop(columns=[target_column])\n",
        "target = data[target_column]\n",
        "X_train, X_test, y_train, y_test = train_test_split(features, target, test_size=0.2, random_state=42)\n",
        "\n",
        "print(\"Shape of X_train:\", X_train.shape)\n",
        "print(\"Shape of X_test:\", X_test.shape)\n",
        "print(\"Shape of y_train:\", y_train.shape)\n",
        "print(\"Shape of y_test:\",y_test.shape)\n"
      ],
      "metadata": {
        "colab": {
          "base_uri": "https://localhost:8080/"
        },
        "id": "7rK5CVUnME24",
        "outputId": "a10bc463-73aa-4715-e121-cfac7db5b1d0"
      },
      "execution_count": 22,
      "outputs": [
        {
          "output_type": "stream",
          "name": "stdout",
          "text": [
            "Shape of X_train: (2400, 8)\n",
            "Shape of X_test: (600, 8)\n",
            "Shape of y_train: (2400,)\n",
            "Shape of y_test: (600,)\n"
          ]
        }
      ]
    },
    {
      "cell_type": "code",
      "source": [
        "#f question\n",
        "import pandas as pd\n",
        "from sklearn.preprocessing import MinMaxScaler\n",
        "\n",
        "\n",
        "target_column = data.columns[-1]\n",
        "features = data.drop(columns=[target_column])\n",
        "target = data[target_column]\n",
        "scaler = MinMaxScaler()\n",
        "features_normalized = scaler.fit_transform(features)\n",
        "features_normalized_df = pd.DataFrame(features_normalized, columns=features.columns)\n",
        "print(\"Normalized Features:\")\n",
        "print(features_normalized_df.head())"
      ],
      "metadata": {
        "colab": {
          "base_uri": "https://localhost:8080/"
        },
        "id": "P8I-Cx8_Mg4y",
        "outputId": "343411fb-ab1f-43a5-f747-8b9e700d7cc1"
      },
      "execution_count": 23,
      "outputs": [
        {
          "output_type": "stream",
          "name": "stdout",
          "text": [
            "Normalized Features:\n",
            "   longitude  latitude  housing_median_age  total_rooms  total_bedrooms  \\\n",
            "0   0.219814  0.513889            0.509804     0.127414        0.121654   \n",
            "1   0.606811  0.181624            0.823529     0.049402        0.056858   \n",
            "2   0.657379  0.130342            0.509804     0.117691        0.093225   \n",
            "3   0.600619  0.134615            0.529412     0.002004        0.002400   \n",
            "4   0.465428  0.402778            0.352941     0.040566        0.044674   \n",
            "\n",
            "   population  households  median_income  \n",
            "0    0.128416    0.122565       0.421277  \n",
            "1    0.067393    0.055804       0.213728  \n",
            "2    0.123973    0.100041       0.365064  \n",
            "3    0.003688    0.001826       0.388684  \n",
            "4    0.070830    0.047687       0.168108  \n"
          ]
        }
      ]
    },
    {
      "cell_type": "code",
      "source": [
        "#g question\n",
        "from sklearn.linear_model import LinearRegression\n",
        "from sklearn.metrics import mean_squared_error, mean_absolute_error\n",
        "from sklearn.preprocessing import MinMaxScaler\n",
        "import numpy as np\n",
        "\n",
        "scaler = MinMaxScaler()\n",
        "\n",
        "X_train_scaled = scaler.fit_transform(X_train)\n",
        "X_test_scaled = scaler.transform(X_test)\n",
        "\n",
        "model = LinearRegression()\n",
        "model.fit(X_train_scaled, y_train)\n",
        "\n",
        "predictions = model.predict(X_test_scaled)\n",
        "\n",
        "mse = mean_squared_error(y_test, predictions)\n",
        "mae = mean_absolute_error(y_test, predictions)\n",
        "rmse = np.sqrt(mse)\n",
        "\n",
        "print(f\"MSE: {mse}, MAE: {mae}, RMSE: {rmse}\")"
      ],
      "metadata": {
        "colab": {
          "base_uri": "https://localhost:8080/"
        },
        "id": "KAO4WXs3MmlV",
        "outputId": "b890543f-5d62-481f-d23f-37f52b225cc3"
      },
      "execution_count": 25,
      "outputs": [
        {
          "output_type": "stream",
          "name": "stdout",
          "text": [
            "MSE: 4586505886.681249, MAE: 49554.27620826833, RMSE: 67723.7468446722\n"
          ]
        }
      ]
    },
    {
      "cell_type": "code",
      "source": [
        "#h question\n",
        "print(\"Coefficients (w values):\", model.coef_)\n",
        "print(\"Intercept (b value):\", model.intercept_)"
      ],
      "metadata": {
        "colab": {
          "base_uri": "https://localhost:8080/"
        },
        "id": "Jh_WDCriPU1g",
        "outputId": "a00c8325-8c34-427a-f58c-8c5177ee659a"
      },
      "execution_count": 27,
      "outputs": [
        {
          "output_type": "stream",
          "name": "stdout",
          "text": [
            "Coefficients (w values): [-426016.28948139 -405833.71634684   58502.94972371 -240090.94223792\n",
            "  533723.81260476 -440368.5625725   302751.40385753  573455.89596709]\n",
            "Intercept (b value): 373752.02708750067\n"
          ]
        }
      ]
    }
  ]
}