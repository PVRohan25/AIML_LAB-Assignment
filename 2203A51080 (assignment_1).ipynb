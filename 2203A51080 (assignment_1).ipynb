{
  "nbformat": 4,
  "nbformat_minor": 0,
  "metadata": {
    "colab": {
      "provenance": []
    },
    "kernelspec": {
      "name": "python3",
      "display_name": "Python 3"
    },
    "language_info": {
      "name": "python"
    }
  },
  "cells": [
    {
      "cell_type": "code",
      "source": [
        "# Lab Exercise - Python Libraries and Packages\n",
        "\n",
        "# Part 1 – Implement Basic Data Structures using Numpy, Pandas\n",
        "import numpy as np\n",
        "import pandas as pd"
      ],
      "metadata": {
        "id": "AWZPOAUI5lDp"
      },
      "execution_count": null,
      "outputs": []
    },
    {
      "cell_type": "code",
      "source": [
        "#1st Question\n",
        "list1 = [1, 2, 3]\n",
        "print(list1)"
      ],
      "metadata": {
        "colab": {
          "base_uri": "https://localhost:8080/"
        },
        "id": "Fg9buY2O2sVC",
        "outputId": "b6e114cd-5f2e-4844-d3f6-f6031872af99"
      },
      "execution_count": null,
      "outputs": [
        {
          "output_type": "stream",
          "name": "stdout",
          "text": [
            "[1, 2, 3]\n"
          ]
        }
      ]
    },
    {
      "cell_type": "code",
      "execution_count": null,
      "metadata": {
        "colab": {
          "base_uri": "https://localhost:8080/"
        },
        "id": "QEZeoaRrt7X5",
        "outputId": "ed363e4d-fbfe-4839-de07-1f93410c3830"
      },
      "outputs": [
        {
          "output_type": "stream",
          "name": "stdout",
          "text": [
            "[5 7 9]\n"
          ]
        }
      ],
      "source": [
        "#2nd Question\n",
        "import numpy as np\n",
        "l1=[1,2,3]\n",
        "l2=[4,5,6]\n",
        "array1=np.array(l1)\n",
        "array2=np.array(l2)\n",
        "sum=array1+array2\n",
        "print(sum)"
      ]
    },
    {
      "cell_type": "code",
      "source": [
        "#3rd Question\n",
        "print(type(list1))\n",
        "print(type(array1))"
      ],
      "metadata": {
        "colab": {
          "base_uri": "https://localhost:8080/"
        },
        "id": "ZP0YsXZ_28th",
        "outputId": "791c8ff2-1c4c-4993-ea88-84b44c5f0d85"
      },
      "execution_count": null,
      "outputs": [
        {
          "output_type": "stream",
          "name": "stdout",
          "text": [
            "<class 'list'>\n",
            "<class 'numpy.ndarray'>\n"
          ]
        }
      ]
    },
    {
      "cell_type": "code",
      "source": [
        "#4th Question\n",
        "a1 = np.array([1, 2, 3, 4, 5])\n",
        "a2 = np.array([6, 7, 8, 9, 10])\n",
        "\n",
        "print(a1 * a2)\n",
        "\n",
        "print(a1 / a2)\n",
        "\n",
        "print(a1 ** a2)"
      ],
      "metadata": {
        "colab": {
          "base_uri": "https://localhost:8080/"
        },
        "id": "zE4okGH55gL_",
        "outputId": "ff1946fe-094d-41d7-9cea-6afa14bd4d8d"
      },
      "execution_count": null,
      "outputs": [
        {
          "output_type": "stream",
          "name": "stdout",
          "text": [
            "[ 6 14 24 36 50]\n",
            "[0.16666667 0.28571429 0.375      0.44444444 0.5       ]\n",
            "[      1     128    6561  262144 9765625]\n"
          ]
        }
      ]
    },
    {
      "cell_type": "code",
      "source": [
        "#5th Question\n",
        "print(f\"Addition of Two: {a1 + a2}\")"
      ],
      "metadata": {
        "colab": {
          "base_uri": "https://localhost:8080/"
        },
        "id": "h4esXkDd6UI5",
        "outputId": "fa2566fe-30ef-490e-e247-7f2702bd1133"
      },
      "execution_count": null,
      "outputs": [
        {
          "output_type": "stream",
          "name": "stdout",
          "text": [
            "Addition of Two: [ 7  9 11 13 15]\n"
          ]
        }
      ]
    },
    {
      "cell_type": "code",
      "source": [
        "#6th Question\n",
        "print(np.sin(array1))\n",
        "print(np.log(array1))\n",
        "print(np.log2(array1))\n",
        "print(np.exp(array1))"
      ],
      "metadata": {
        "colab": {
          "base_uri": "https://localhost:8080/"
        },
        "id": "L-qQxJAj5PJ8",
        "outputId": "9a0d03e4-77ff-4626-d4dc-de7fcd8ad162"
      },
      "execution_count": null,
      "outputs": [
        {
          "output_type": "stream",
          "name": "stdout",
          "text": [
            "[0.84147098 0.90929743 0.14112001]\n",
            "[0.         0.69314718 1.09861229]\n",
            "[0.        1.        1.5849625]\n",
            "[ 2.71828183  7.3890561  20.08553692]\n"
          ]
        }
      ]
    },
    {
      "cell_type": "code",
      "source": [],
      "metadata": {
        "id": "6DyWE5Uv_KuA"
      },
      "execution_count": null,
      "outputs": []
    },
    {
      "cell_type": "code",
      "source": [
        "#Part 2 – Visualization of Data using matplotlib, pyplots Packages\n",
        "\n",
        "import matplotlib.pyplot as plt\n",
        "\n",
        "people = ['kiran', 'arun', 'vijay', 'varun']\n",
        "age = [25, 30, 35, 40]\n",
        "height = [145, 151, 165, 173]\n",
        "weight = [45, 55, 65, 75]"
      ],
      "metadata": {
        "id": "TdXAsH0R8OHs"
      },
      "execution_count": null,
      "outputs": []
    },
    {
      "cell_type": "code",
      "source": [
        "plt.figure(figsize=(5, 6))\n",
        "plt.scatter(height, weight)\n",
        "plt.title('Scatter plot: Height vs Weight')\n",
        "plt.xlabel('Height')\n",
        "plt.ylabel('Weight')\n",
        "plt.show()"
      ],
      "metadata": {
        "id": "XaOfF0o14NPT",
        "colab": {
          "base_uri": "https://localhost:8080/",
          "height": 564
        },
        "outputId": "1f93d1d3-a8db-4a72-bca0-d5604032e38b"
      },
      "execution_count": null,
      "outputs": [
        {
          "output_type": "display_data",
          "data": {
            "text/plain": [
              "<Figure size 500x600 with 1 Axes>"
            ],
            "image/png": "[encoded data removed]"
          },
          "metadata": {}
        }
      ]
    },
    {
      "cell_type": "code",
      "source": [
        "plt.figure(figsize=(5, 6))\n",
        "plt.bar(people, age)\n",
        "plt.title('Bar chart: Age of People')\n",
        "plt.xlabel('People')\n",
        "plt.ylabel('Age')\n",
        "plt.show()"
      ],
      "metadata": {
        "colab": {
          "base_uri": "https://localhost:8080/",
          "height": 564
        },
        "id": "hKAUWzSA8lsa",
        "outputId": "01c3a21a-5804-4e2e-a3b8-d6345fb4d37d"
      },
      "execution_count": null,
      "outputs": [
        {
          "output_type": "display_data",
          "data": {
            "text/plain": [
              "<Figure size 500x600 with 1 Axes>"
            ],
            "image/png": "[encoded data removed]"
          },
          "metadata": {}
        }
      ]
    },
    {
      "cell_type": "code",
      "source": [
        "plt.figure(figsize=(5, 6))\n",
        "plt.hist(height, bins=5,edgecolor='black')\n",
        "plt.title('Histogram: Distribution of Heights')\n",
        "plt.xlabel('Height')\n",
        "plt.ylabel('Frequency')\n",
        "plt.show()"
      ],
      "metadata": {
        "colab": {
          "base_uri": "https://localhost:8080/",
          "height": 564
        },
        "id": "eFaBgEZt8z_8",
        "outputId": "aa9b6263-e6a2-4e16-f8f1-527a119e34ec"
      },
      "execution_count": null,
      "outputs": [
        {
          "output_type": "display_data",
          "data": {
            "text/plain": [
              "<Figure size 500x600 with 1 Axes>"
            ],
            "image/png": "[encoded data removed]"
          },
          "metadata": {}
        }
      ]
    },
    {
      "cell_type": "code",
      "source": [
        "#Part 3 – Access Data from Various Data Sources using builtin Function of Numpy, Pandas\n",
        "\n",
        "#1st Question\n",
        "from google.colab import drive\n",
        "drive.mount('/content/drive')"
      ],
      "metadata": {
        "id": "2WK2UyZ5_WQu",
        "colab": {
          "base_uri": "https://localhost:8080/"
        },
        "outputId": "af68067b-4000-43c7-ff8d-82c103451d19"
      },
      "execution_count": null,
      "outputs": [
        {
          "output_type": "stream",
          "name": "stdout",
          "text": [
            "Mounted at /content/drive\n"
          ]
        }
      ]
    },
    {
      "cell_type": "code",
      "source": [
        "#2nd Question\n",
        "import pandas as pd\n",
        "tsv_file_path = '/content/drive/MyDrive/sample-1.tsv'\n",
        "tsv_data = pd.read_csv(tsv_file_path, sep='\\t')\n",
        "print(tsv_data)"
      ],
      "metadata": {
        "colab": {
          "base_uri": "https://localhost:8080/"
        },
        "id": "KXyxQKHAIBzV",
        "outputId": "1af167ab-e84c-4026-a3e5-82c27ba956a4"
      },
      "execution_count": null,
      "outputs": [
        {
          "output_type": "stream",
          "name": "stdout",
          "text": [
            "    Unnamed: 0 Unnamed: 1 Unnamed: 2 Unnamed: 3 Unnamed: 4 Unnamed: 5  \\\n",
            "0          NaN    JANUARY        NaN        NaN        NaN        NaN   \n",
            "1          NaN          S          M          T          W          T   \n",
            "2          NaN        NaN        NaN        NaN        NaN        NaN   \n",
            "3          NaN          2          3          4          5          6   \n",
            "4          NaN          9         10         11         12         13   \n",
            "5          NaN         16         17         18         19         20   \n",
            "6          NaN         23         24         25         26         27   \n",
            "7          NaN         30         31        NaN        NaN        NaN   \n",
            "8          NaN        NaN        NaN        NaN        NaN        NaN   \n",
            "9          NaN     APRIL         NaN        NaN        NaN        NaN   \n",
            "10         NaN          S          M          T          W          T   \n",
            "11         NaN        NaN        NaN        NaN        NaN        NaN   \n",
            "12         NaN          3          4          5          6          7   \n",
            "13         NaN         10         11         12         13         14   \n",
            "14         NaN         17         18         19         20         21   \n",
            "15         NaN         24         25         26         27         28   \n",
            "16         NaN        NaN        NaN        NaN        NaN        NaN   \n",
            "17         NaN        NaN        NaN        NaN        NaN        NaN   \n",
            "18         NaN       JULY        NaN        NaN        NaN        NaN   \n",
            "19         NaN          S          M          T          W          T   \n",
            "20         NaN        NaN        NaN        NaN        NaN        NaN   \n",
            "21         NaN          3          4          5          6          7   \n",
            "22         NaN         10         11         12         13         14   \n",
            "23         NaN         17         18         19         20         21   \n",
            "24         NaN         24         25         26         27         28   \n",
            "25         NaN         31        NaN        NaN        NaN        NaN   \n",
            "26         NaN        NaN        NaN        NaN        NaN        NaN   \n",
            "27         NaN    OCTOBER        NaN        NaN        NaN        NaN   \n",
            "28         NaN          S          M          T          W          T   \n",
            "29         NaN        NaN        NaN        NaN        NaN        NaN   \n",
            "30         NaN          2          3          4          5          6   \n",
            "31         NaN          9         10         11         12         13   \n",
            "32         NaN         16         17         18         19         20   \n",
            "33         NaN         23         24         25         26         27   \n",
            "34         NaN         30         31        NaN        NaN        NaN   \n",
            "\n",
            "   Unnamed: 6 Unnamed: 7  Unnamed: 8 Unnamed: 9  ... Unnamed: 17 Unnamed: 18  \\\n",
            "0         NaN        NaN         NaN   FEBRUARY  ...       MARCH         NaN   \n",
            "1           F          S         NaN          S  ...           S           M   \n",
            "2         NaN          1         NaN        NaN  ...         NaN         NaN   \n",
            "3           7          8         NaN          6  ...           6           7   \n",
            "4          14         15         NaN         13  ...          13          14   \n",
            "5          21         22         NaN         20  ...          20          21   \n",
            "6          28         29         NaN         27  ...          27          28   \n",
            "7         NaN        NaN         NaN        NaN  ...         NaN         NaN   \n",
            "8         NaN        NaN         NaN        NaN  ...         NaN         NaN   \n",
            "9         NaN        NaN         NaN        MAY  ...        JUNE         NaN   \n",
            "10          F          S         NaN          S  ...           S           M   \n",
            "11          1          2         NaN          1  ...         NaN         NaN   \n",
            "12          8          9         NaN          8  ...           5           6   \n",
            "13         15         16         NaN         15  ...          12          13   \n",
            "14         22         23         NaN         22  ...          19          20   \n",
            "15         29         30         NaN         29  ...          26          27   \n",
            "16        NaN        NaN         NaN        NaN  ...         NaN         NaN   \n",
            "17        NaN        NaN         NaN        NaN  ...         NaN         NaN   \n",
            "18        NaN        NaN         NaN     AUGUST  ...   SEPTEMBER         NaN   \n",
            "19          F          S         NaN          S  ...           S           M   \n",
            "20          1          2         NaN        NaN  ...         NaN         NaN   \n",
            "21          8          9         NaN          7  ...           4           5   \n",
            "22         15         16         NaN         14  ...          11          12   \n",
            "23         22         23         NaN         21  ...          18          19   \n",
            "24         29         30         NaN         28  ...          25          26   \n",
            "25        NaN        NaN         NaN        NaN  ...         NaN         NaN   \n",
            "26        NaN        NaN         NaN        NaN  ...         NaN         NaN   \n",
            "27        NaN        NaN         NaN   NOVEMBER  ...    DECEMBER         NaN   \n",
            "28          F          S         NaN          S  ...           S           M   \n",
            "29        NaN          1         NaN        NaN  ...         NaN         NaN   \n",
            "30          7          8         NaN          6  ...           4           5   \n",
            "31         14         15         NaN         13  ...          11          12   \n",
            "32         21         22         NaN         20  ...          18          19   \n",
            "33         28         29         NaN         27  ...          25          26   \n",
            "34        NaN        NaN         NaN        NaN  ...         NaN         NaN   \n",
            "\n",
            "   Unnamed: 19 Unnamed: 20 Unnamed: 21 Unnamed: 22  Unnamed: 23 Unnamed: 24  \\\n",
            "0          NaN         NaN         NaN         NaN          NaN         NaN   \n",
            "1            T           W           T           F            S         NaN   \n",
            "2            1           2           3           4            5         NaN   \n",
            "3            8           9          10          11           12         NaN   \n",
            "4           15          16          17          18           19         NaN   \n",
            "5           22          23          24          25           26         NaN   \n",
            "6           29          30          31         NaN          NaN         NaN   \n",
            "7          NaN         NaN         NaN         NaN          NaN         NaN   \n",
            "8          NaN         NaN         NaN         NaN          NaN         NaN   \n",
            "9          NaN         NaN         NaN         NaN          NaN         NaN   \n",
            "10           T           W           T           F            S         NaN   \n",
            "11         NaN           1           2           3            4         NaN   \n",
            "12           7           8           9          10           11         NaN   \n",
            "13          14          15          16          17           18         NaN   \n",
            "14          21          22          23          24           25         NaN   \n",
            "15          28          29          30         NaN          NaN         NaN   \n",
            "16         NaN         NaN         NaN         NaN          NaN         NaN   \n",
            "17         NaN         NaN         NaN         NaN          NaN         NaN   \n",
            "18         NaN         NaN         NaN         NaN          NaN         NaN   \n",
            "19           T           W           T           F            S         NaN   \n",
            "20         NaN         NaN           1           2            3         NaN   \n",
            "21           6           7           8           9           10         NaN   \n",
            "22          13          14          15          16           17         NaN   \n",
            "23          20          21          22          23           24         NaN   \n",
            "24          27          28          29          30          NaN         NaN   \n",
            "25         NaN         NaN         NaN         NaN          NaN         NaN   \n",
            "26         NaN         NaN         NaN         NaN          NaN         NaN   \n",
            "27         NaN         NaN         NaN         NaN          NaN         NaN   \n",
            "28           T           W           T           F            S         NaN   \n",
            "29         NaN         NaN           1           2            3         NaN   \n",
            "30           6           7           8           9           10         NaN   \n",
            "31          13          14          15          16           17         NaN   \n",
            "32          20          21          22          23           24         NaN   \n",
            "33          27          28          29          30           31         NaN   \n",
            "34         NaN         NaN         NaN         NaN          NaN         NaN   \n",
            "\n",
            "   2022 Create more with themes              Go to  Format  >> Theme  \n",
            "0   NaN                                                NaN            \n",
            "1   NaN                                                NaN            \n",
            "2   NaN                                                NaN            \n",
            "3   NaN                                                NaN            \n",
            "4   NaN                                                NaN            \n",
            "5   NaN                                                NaN            \n",
            "6   NaN                                                NaN            \n",
            "7   NaN                                                NaN            \n",
            "8   NaN                                                NaN            \n",
            "9   NaN                                                NaN            \n",
            "10  NaN                                                NaN            \n",
            "11  NaN                                                NaN            \n",
            "12  NaN                                                NaN            \n",
            "13  NaN                                                NaN            \n",
            "14  NaN                                                NaN            \n",
            "15  NaN                                                NaN            \n",
            "16  NaN                                                NaN            \n",
            "17  NaN                                                NaN            \n",
            "18  NaN                                                NaN            \n",
            "19  NaN                                                NaN            \n",
            "20  NaN                                                NaN            \n",
            "21  NaN                                                NaN            \n",
            "22  NaN                                                NaN            \n",
            "23  NaN                                                NaN            \n",
            "24  NaN                                                NaN            \n",
            "25  NaN                                                NaN            \n",
            "26  NaN                                                NaN            \n",
            "27  NaN                                                NaN            \n",
            "28  NaN                                                NaN            \n",
            "29  NaN                                                NaN            \n",
            "30  NaN                                                NaN            \n",
            "31  NaN                                                NaN            \n",
            "32  NaN                                                NaN            \n",
            "33  NaN                                                NaN            \n",
            "34  NaN                                                NaN            \n",
            "\n",
            "[35 rows x 27 columns]\n"
          ]
        }
      ]
    },
    {
      "cell_type": "code",
      "source": [
        "#3rd Question\n",
        "import pandas as pd\n",
        "t=pd.read_csv('/content/sample_data/california_housing_test.csv')\n",
        "print(t)"
      ],
      "metadata": {
        "colab": {
          "base_uri": "https://localhost:8080/"
        },
        "id": "KPPazWE15J5A",
        "outputId": "60040822-89da-4018-ee18-231f2ce5b781"
      },
      "execution_count": null,
      "outputs": [
        {
          "output_type": "stream",
          "name": "stdout",
          "text": [
            "      longitude  latitude  housing_median_age  total_rooms  total_bedrooms  \\\n",
            "0       -122.05     37.37                27.0       3885.0           661.0   \n",
            "1       -118.30     34.26                43.0       1510.0           310.0   \n",
            "2       -117.81     33.78                27.0       3589.0           507.0   \n",
            "3       -118.36     33.82                28.0         67.0            15.0   \n",
            "4       -119.67     36.33                19.0       1241.0           244.0   \n",
            "...         ...       ...                 ...          ...             ...   \n",
            "2995    -119.86     34.42                23.0       1450.0           642.0   \n",
            "2996    -118.14     34.06                27.0       5257.0          1082.0   \n",
            "2997    -119.70     36.30                10.0        956.0           201.0   \n",
            "2998    -117.12     34.10                40.0         96.0            14.0   \n",
            "2999    -119.63     34.42                42.0       1765.0           263.0   \n",
            "\n",
            "      population  households  median_income  median_house_value  \n",
            "0         1537.0       606.0         6.6085            344700.0  \n",
            "1          809.0       277.0         3.5990            176500.0  \n",
            "2         1484.0       495.0         5.7934            270500.0  \n",
            "3           49.0        11.0         6.1359            330000.0  \n",
            "4          850.0       237.0         2.9375             81700.0  \n",
            "...          ...         ...            ...                 ...  \n",
            "2995      1258.0       607.0         1.1790            225000.0  \n",
            "2996      3496.0      1036.0         3.3906            237200.0  \n",
            "2997       693.0       220.0         2.2895             62000.0  \n",
            "2998        46.0        14.0         3.2708            162500.0  \n",
            "2999       753.0       260.0         8.5608            500001.0  \n",
            "\n",
            "[3000 rows x 9 columns]\n"
          ]
        }
      ]
    },
    {
      "cell_type": "code",
      "source": [
        "#4th Question\n",
        "import pandas as pd\n",
        "data = pd.read_excel('/content/drive/MyDrive/file_example_XLSX_100.xlsx')\n",
        "print(data)\n"
      ],
      "metadata": {
        "colab": {
          "base_uri": "https://localhost:8080/"
        },
        "id": "O5d0p6tpg7Xi",
        "outputId": "f603099f-694b-412f-9aa4-5d8b7e122dbb"
      },
      "execution_count": null,
      "outputs": [
        {
          "output_type": "stream",
          "name": "stdout",
          "text": [
            "      0 First Name   Last Name  Gender        Country  Age        Date    Id\n",
            "0     1      Dulce       Abril  Female  United States   32  15/10/2017  1562\n",
            "1     2       Mara   Hashimoto  Female  Great Britain   25  16/08/2016  1582\n",
            "2     3     Philip        Gent    Male         France   36  21/05/2015  2587\n",
            "3     4   Kathleen      Hanner  Female  United States   25  15/10/2017  3549\n",
            "4     5    Nereida     Magwood  Female  United States   58  16/08/2016  2468\n",
            "..  ...        ...         ...     ...            ...  ...         ...   ...\n",
            "95   96       Roma  Lafollette  Female  United States   34  15/10/2017  2654\n",
            "96   97     Felisa        Cail  Female  United States   28  16/08/2016  6525\n",
            "97   98   Demetria       Abbey  Female  United States   32  21/05/2015  3265\n",
            "98   99     Jeromy        Danz    Male  United States   39  15/10/2017  3265\n",
            "99  100   Rasheeda      Alkire  Female  United States   29  16/08/2016  6125\n",
            "\n",
            "[100 rows x 8 columns]\n"
          ]
        }
      ]
    },
    {
      "cell_type": "code",
      "source": [
        "#5th Question\n",
        "import pandas as pd\n",
        "\n",
        "url = \"https://raw.githubusercontent.com/cs109/2014_data/master/countries.csv\"\n",
        "data = pd.read_csv(url)\n",
        "\n",
        "print(data.head())"
      ],
      "metadata": {
        "colab": {
          "base_uri": "https://localhost:8080/"
        },
        "id": "xP7uc_fCjSWT",
        "outputId": "fb8a94d2-1a82-4050-fb50-7c2c118c1ca6"
      },
      "execution_count": 8,
      "outputs": [
        {
          "output_type": "stream",
          "name": "stdout",
          "text": [
            "    Country  Region\n",
            "0   Algeria  AFRICA\n",
            "1    Angola  AFRICA\n",
            "2     Benin  AFRICA\n",
            "3  Botswana  AFRICA\n",
            "4   Burkina  AFRICA\n"
          ]
        }
      ]
    }
  ]
}